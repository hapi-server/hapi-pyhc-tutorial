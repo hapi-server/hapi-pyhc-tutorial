{
 "cells": [
  {
   "cell_type": "markdown",
   "metadata": {
    "id": "nPrfD4g5W6Dh"
   },
   "source": [
    "The [Heliophysics Application Programmer’s Interface (HAPI)](http://hapi-server.org/) data access specification is a RESTful API and streaming format specification for delivering digital time series data.\n",
    "\n",
    "HAPI serves time series data in a mission-independent format as a single continous dataset (regardless of mission file formats or file boundaries) from any mission that has implemented a HAPI server.\n",
    "\n",
    "The first part of this walkthrough has 5 parts:\n",
    "* [HAPI_01.ipynb - First look at HAPI](HAPI_01.ipynb)\n",
    "* [HAPI_02.ipynb - Data structures](HAPI_02.ipynb)\n",
    "* [HAPI_03.ipynb - Plotting, Pandas, and metadata](HAPI_03.ipynb)\n",
    "* [HAPI_04.ipynb - Data fusion using HAPI](HAPI_04.ipynb) (this Notebook)\n",
    "* [HAPI_05.ipynb - The HAPI ecosystem](HAPI_05.ipynb)\n",
    "\n",
    "For more information on HAPI-related software, see http://hapi-server.org/."
   ]
  },
  {
   "cell_type": "code",
   "execution_count": null,
   "metadata": {},
   "outputs": [],
   "source": [
    "# Here we set up our Python environment for this Notebook\n",
    "from hapiclient import hapi\n",
    "from hapiplot import hapiplot\n",
    "%matplotlib inline \n",
    "%config InlineBackend.figure_formats = ['svg']\n",
    "# Show plots in page instead of opening a window\n",
    "import warnings\n",
    "warnings.simplefilter(\"ignore\", ResourceWarning) # removes spurious Notebook warns"
   ]
  },
  {
   "cell_type": "code",
   "execution_count": 1,
   "metadata": {},
   "outputs": [],
   "source": [
    "# Big Example"
   ]
  },
  {
   "cell_type": "markdown",
   "metadata": {},
   "source": [
    "----\n",
    "In Closing, a look into the underlying [HAPI Ecosystem](HAPI_05.ipynb)\n",
    "----"
   ]
  },
  {
   "cell_type": "code",
   "execution_count": null,
   "metadata": {},
   "outputs": [],
   "source": []
  }
 ],
 "metadata": {
  "colab": {
   "name": "hapi_demo.ipynb",
   "provenance": [],
   "toc_visible": true
  },
  "git": {
   "suppress_output": true
  },
  "kernelspec": {
   "display_name": "Python 3 (ipykernel)",
   "language": "python",
   "name": "python3"
  },
  "language_info": {
   "codemirror_mode": {
    "name": "ipython",
    "version": 3
   },
   "file_extension": ".py",
   "mimetype": "text/x-python",
   "name": "python",
   "nbconvert_exporter": "python",
   "pygments_lexer": "ipython3",
   "version": "3.9.10"
  }
 },
 "nbformat": 4,
 "nbformat_minor": 4
}
