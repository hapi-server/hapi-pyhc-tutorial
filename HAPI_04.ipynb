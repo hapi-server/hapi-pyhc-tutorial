{
 "cells": [
  {
   "cell_type": "markdown",
   "metadata": {
    "id": "nPrfD4g5W6Dh"
   },
   "source": [
    "# Overview of Notebooks\n",
    "\n",
    "* [HAPI_01.ipynb - Basics](HAPI_01.ipynb) \n",
    "* [HAPI_02.ipynb - Data structures](HAPI_02.ipynb)\n",
    "* [HAPI_03.ipynb - Plotting](HAPI_03.ipynb)\n",
    "* **[HAPI_04.ipynb - Problems](HAPI_04.ipynb) (this Notebook)**"
   ]
  },
  {
   "cell_type": "code",
   "execution_count": null,
   "metadata": {},
   "outputs": [],
   "source": []
  }
 ],
 "metadata": {
  "colab": {
   "name": "hapi_demo.ipynb",
   "provenance": [],
   "toc_visible": true
  },
  "git": {
   "suppress_output": true
  },
  "kernelspec": {
   "display_name": "Python 3",
   "language": "python",
   "name": "python3"
  },
  "language_info": {
   "codemirror_mode": {
    "name": "ipython",
    "version": 3
   },
   "file_extension": ".py",
   "mimetype": "text/x-python",
   "name": "python",
   "nbconvert_exporter": "python",
   "pygments_lexer": "ipython3",
   "version": "3.7.6"
  }
 },
 "nbformat": 4,
 "nbformat_minor": 4
}
