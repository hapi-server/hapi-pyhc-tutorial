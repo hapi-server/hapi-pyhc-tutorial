{
 "cells": [
  {
   "cell_type": "markdown",
   "metadata": {},
   "source": [
    "# Overview of the HAPI Standard\n",
    "\n",
    "The [Heliophysics Application Programmer’s Interface (HAPI)](http://hapi-server.org/) data access specification is a RESTful API and streaming format specification for delivering digital time series data.\n",
    "\n",
    "A HAPI server provides time series data in a mission-independent format as a single continous data stream (regardless of mission file formats or file boundaries) from any mission or data provider that has implemented a HAPI server.\n",
    "\n",
    "HAPI servers\n",
    "\n",
    "* AMDA\n",
    "* CCMC/iSWA\n",
    "* CDAWeb\n",
    "* Das2\n",
    "* FTEC\n",
    "* LISIRD\n",
    "* SSCWeb\n",
    "\n",
    "All HAPI accessible and browsable at http://hapi-server.org/servers/"
   ]
  },
  {
   "cell_type": "markdown",
   "metadata": {},
   "source": [
    "# Motivation for the HAPI Standard\n",
    "\n",
    "The Heliophysics Application Programmer's Interface (HAPI) specification allows data providers to use a standard set of conventions for returning data in response to a URL-based request.\n",
    "\n",
    "This specification was developed because no standard exists. Data providers use incompatible conventions so that automated access to and aggregation of data requires users to write custom code for each data provider.\n",
    "\n",
    "As an example, prior to HAPI, to write a Python program that downloads data using the web API from SSCWeb, CDAWeb, LISIRD,and AMD\n",
    "\n",
    "\n",
    "# Overview of HAPI Python Software"
   ]
  },
  {
   "cell_type": "markdown",
   "metadata": {},
   "source": [
    "The HAPI project has two parts\n",
    "\n",
    "1. Developement of [the standard](https://github.com/hapi-server/data-specification)\n",
    "2. Development of [software that implements the standard](http://github.com/hapi-server/) (server-side software for data providers and client-side software for scientists)\n",
    "\n",
    "In this lab, you will learn to use the Python HAPI client, `hapiclient`, and the plotting tool `hapiplot`.\n",
    "\n",
    "`hapiclient` is required for all activities.\n",
    "\n",
    "`hapiplot` is a software package that was developed for testing and quick-look plots of data returned by `hapiclient`. \n",
    "\n",
    "In this lab, you will use `hapiplot` along with the standard Python plotting package `matplotlib` and also plotting functions available in Heliophysics libraries such as `SunPy`, `PyTplot`, and `SpacePy`."
   ]
  },
  {
   "cell_type": "markdown",
   "metadata": {},
   "source": [
    "# Finding Data\n",
    "\n",
    "As will be demonstrated, if you know what dataset and parameter you want, a few lines of Python (or IDL, MATLAB, etc.) is all that is needed to get data into your program in a form that is ready for analysis and plotting.\n",
    "\n",
    "The HAPI project and HAPI standard covers the \"access\" problem. That is, it makes accessing data easy.\n",
    "\n",
    "However, the HAPI project does not address the \"discovery\" problem of making findinging what you need easy.\n",
    "\n",
    "The page [https://hapi-server.org/servers](http://hapi-server.org/servers) contains a complete list of all HAPI servers and their datasets and parameters. It does not contain a global search interface, however. This interface may be useful if you have a general idea of what you are looking for.\n",
    "\n",
    "For more general searches, there is the [Heliophysics Data Portal (HDP)](https://heliophysicsdata.gsfc.nasa.gov/). With this interface, you can do faceted searches. For example, a search for 'dst' data and 'hapi' (as keywords entered in the \"Text Restriction\" box) for the time range of Nov-Dec 2021 yields 33 entries: 8 for Cluster, 24 for MMS, and 1 for OMNI.\n",
    "\n",
    "Current, not all data available from HAPI servers is available for search at the [Heliophysics Data Portal (HDP)](https://heliophysicsdata.gsfc.nasa.gov/). There is an on-going effort to make all HAPI data searchable from this interface."
   ]
  },
  {
   "cell_type": "markdown",
   "metadata": {},
   "source": [
    "# Overview of Notebooks\n",
    "\n",
    "* [HAPI_01.ipynb - First look at HAPI](HAPI_01.ipynb) \n",
    "* [HAPI_02.ipynb - Data structures](HAPI_02.ipynb)\n",
    "* [HAPI_03.ipynb - Plotting, Pandas, and metadata](HAPI_03.ipynb)\n",
    "* [HAPI_04.ipynb - Data fusion using HAPI](HAPI_04.ipynb)\n",
    "* [HAPI_05.ipynb - The HAPI ecosystem](HAPI_05.ipynb)"
   ]
  }
 ],
 "metadata": {
  "kernelspec": {
   "display_name": "Python 3",
   "language": "python",
   "name": "python3"
  },
  "language_info": {
   "codemirror_mode": {
    "name": "ipython",
    "version": 3
   },
   "file_extension": ".py",
   "mimetype": "text/x-python",
   "name": "python",
   "nbconvert_exporter": "python",
   "pygments_lexer": "ipython3",
   "version": "3.7.6"
  }
 },
 "nbformat": 4,
 "nbformat_minor": 4
}
