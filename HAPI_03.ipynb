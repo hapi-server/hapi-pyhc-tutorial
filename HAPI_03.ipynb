{
 "cells": [
  {
   "cell_type": "markdown",
   "metadata": {
    "id": "nPrfD4g5W6Dh"
   },
   "source": [
    "The [Heliophysics Application Programmer’s Interface (HAPI)](http://hapi-server.org/) data access specification is a RESTful API and streaming format specification for delivering digital time series data.\n",
    "\n",
    "HAPI serves time series data in a mission-independent format as a single continous dataset (regardless of mission file formats or file boundaries) from any mission that has implemented a HAPI server.\n",
    "\n",
    "The first part of this walkthrough has 5 parts:\n",
    "* [HAPI_01.ipynb - First look at HAPI](HAPI_01.ipynb)\n",
    "* [HAPI_02.ipynb - Data structures](HAPI_02.ipynb)\n",
    "* [HAPI_03.ipynb - Plotting, Pandas, and metadata](HAPI_03.ipynb) (this Notebook)\n",
    "* [HAPI_04.ipynb - Data fusion using HAPI](HAPI_04.ipynb)\n",
    "* [HAPI_05.ipynb - The HAPI ecosystem](HAPI_05.ipynb)\n",
    "\n",
    "For more information on HAPI-related software, see http://hapi-server.org/."
   ]
  },
  {
   "cell_type": "code",
   "execution_count": null,
   "metadata": {},
   "outputs": [],
   "source": [
    "# Here we set up our Python environment for this Notebook\n",
    "from hapiclient import hapi\n",
    "from hapiplot import hapiplot\n",
    "%matplotlib inline \n",
    "%config InlineBackend.figure_formats = ['svg']\n",
    "# Show plots in page instead of opening a window\n",
    "import warnings\n",
    "warnings.simplefilter(\"ignore\", ResourceWarning) # removes spurious Notebook warns"
   ]
  },
  {
   "cell_type": "markdown",
   "metadata": {
    "id": "ZhPaevuXW6Du"
   },
   "source": [
    "# Plotting with 'matplotlib' and 'pandas'\n",
    "## MatplotLib\n",
    "Users who prefer the 'plt' plot commands can access HAPI data, which again is simply numpy arrays.  Here is an example."
   ]
  },
  {
   "cell_type": "code",
   "execution_count": 27,
   "metadata": {
    "colab": {
     "base_uri": "https://localhost:8080/",
     "height": 297
    },
    "id": "3VTEAEZdW6Du",
    "outputId": "35050b61-3543-42d5-a953-b60ddbce45ec"
   },
   "outputs": [
    {
     "data": {
      "text/plain": [
       "Text(0.5, 1.0, 'scalar with Time as datetimes')"
      ]
     },
     "execution_count": 27,
     "metadata": {},
     "output_type": "execute_result"
    },
    {
     "data": {
      "image/png": "[encoded data removed]",
      "text/plain": [
       "<Figure size 432x288 with 1 Axes>"
      ]
     },
     "metadata": {
      "needs_background": "light"
     },
     "output_type": "display_data"
    }
   ],
   "source": [
    "# Get data for use below\n",
    "from hapiclient import hapi\n",
    "\n",
    "import warnings\n",
    "warnings.simplefilter(\"ignore\",ResourceWarning)\n",
    "\n",
    "\n",
    "server     = 'http://hapi-server.org/servers/TestData2.0/hapi'\n",
    "dataset    = 'dataset1'\n",
    "parameters = 'scalar'\n",
    "start      = '1970-01-01T00:00:00'\n",
    "stop       = '1970-01-01T00:00:10'\n",
    "\n",
    "data,meta = hapi(server,dataset,parameters,start,stop)\n",
    "\n",
    "from matplotlib import pyplot as plt\n",
    "from hapiclient import hapitime2datetime\n",
    "%matplotlib inline\n",
    "\n",
    "# Convert data['Time'] elements to Python datetime objects\n",
    "# Note the difference in tick labels when datetimes are used\n",
    "plt.figure()\n",
    "plt.plot(hapitime2datetime(data['Time']),data['scalar'])\n",
    "plt.gcf().autofmt_xdate()\n",
    "plt.title('scalar with Time as datetimes')"
   ]
  },
  {
   "cell_type": "markdown",
   "metadata": {
    "id": "YzQfizuTW6Du"
   },
   "source": [
    "## Pandas\n",
    "Similarly, we can convert the HAPI numpy data to a Pandas DataFrame like we did earlier, then plot that with the 'df.plot()' approach."
   ]
  },
  {
   "cell_type": "code",
   "execution_count": 28,
   "metadata": {
    "colab": {
     "base_uri": "https://localhost:8080/",
     "height": 693
    },
    "id": "gDgJkTSIW6Du",
    "outputId": "a54289db-3762-41cc-c4ca-47ef73be45e4"
   },
   "outputs": [
    {
     "data": {
      "text/html": [
       "<div>\n",
       "<style scoped>\n",
       "    .dataframe tbody tr th:only-of-type {\n",
       "        vertical-align: middle;\n",
       "    }\n",
       "\n",
       "    .dataframe tbody tr th {\n",
       "        vertical-align: top;\n",
       "    }\n",
       "\n",
       "    .dataframe thead th {\n",
       "        text-align: right;\n",
       "    }\n",
       "</style>\n",
       "<table border=\"1\" class=\"dataframe\">\n",
       "  <thead>\n",
       "    <tr style=\"text-align: right;\">\n",
       "      <th></th>\n",
       "      <th>x</th>\n",
       "      <th>y</th>\n",
       "      <th>z</th>\n",
       "    </tr>\n",
       "    <tr>\n",
       "      <th>Time</th>\n",
       "      <th></th>\n",
       "      <th></th>\n",
       "      <th></th>\n",
       "    </tr>\n",
       "  </thead>\n",
       "  <tbody>\n",
       "    <tr>\n",
       "      <th>1970-01-01 00:00:00+00:00</th>\n",
       "      <td>0.000000</td>\n",
       "      <td>-0.707107</td>\n",
       "      <td>-1.000000</td>\n",
       "    </tr>\n",
       "    <tr>\n",
       "      <th>1970-01-01 00:00:01+00:00</th>\n",
       "      <td>0.005236</td>\n",
       "      <td>-0.703395</td>\n",
       "      <td>-0.999986</td>\n",
       "    </tr>\n",
       "    <tr>\n",
       "      <th>1970-01-01 00:00:02+00:00</th>\n",
       "      <td>0.010472</td>\n",
       "      <td>-0.699663</td>\n",
       "      <td>-0.999945</td>\n",
       "    </tr>\n",
       "    <tr>\n",
       "      <th>1970-01-01 00:00:03+00:00</th>\n",
       "      <td>0.015707</td>\n",
       "      <td>-0.695913</td>\n",
       "      <td>-0.999877</td>\n",
       "    </tr>\n",
       "    <tr>\n",
       "      <th>1970-01-01 00:00:04+00:00</th>\n",
       "      <td>0.020942</td>\n",
       "      <td>-0.692143</td>\n",
       "      <td>-0.999781</td>\n",
       "    </tr>\n",
       "    <tr>\n",
       "      <th>1970-01-01 00:00:05+00:00</th>\n",
       "      <td>0.026177</td>\n",
       "      <td>-0.688355</td>\n",
       "      <td>-0.999657</td>\n",
       "    </tr>\n",
       "    <tr>\n",
       "      <th>1970-01-01 00:00:06+00:00</th>\n",
       "      <td>0.031411</td>\n",
       "      <td>-0.684547</td>\n",
       "      <td>-0.999507</td>\n",
       "    </tr>\n",
       "    <tr>\n",
       "      <th>1970-01-01 00:00:07+00:00</th>\n",
       "      <td>0.036644</td>\n",
       "      <td>-0.680721</td>\n",
       "      <td>-0.999328</td>\n",
       "    </tr>\n",
       "    <tr>\n",
       "      <th>1970-01-01 00:00:08+00:00</th>\n",
       "      <td>0.041876</td>\n",
       "      <td>-0.676876</td>\n",
       "      <td>-0.999123</td>\n",
       "    </tr>\n",
       "    <tr>\n",
       "      <th>1970-01-01 00:00:09+00:00</th>\n",
       "      <td>0.047106</td>\n",
       "      <td>-0.673013</td>\n",
       "      <td>-0.998890</td>\n",
       "    </tr>\n",
       "  </tbody>\n",
       "</table>\n",
       "</div>"
      ],
      "text/plain": [
       "                                  x         y         z\n",
       "Time                                                   \n",
       "1970-01-01 00:00:00+00:00  0.000000 -0.707107 -1.000000\n",
       "1970-01-01 00:00:01+00:00  0.005236 -0.703395 -0.999986\n",
       "1970-01-01 00:00:02+00:00  0.010472 -0.699663 -0.999945\n",
       "1970-01-01 00:00:03+00:00  0.015707 -0.695913 -0.999877\n",
       "1970-01-01 00:00:04+00:00  0.020942 -0.692143 -0.999781\n",
       "1970-01-01 00:00:05+00:00  0.026177 -0.688355 -0.999657\n",
       "1970-01-01 00:00:06+00:00  0.031411 -0.684547 -0.999507\n",
       "1970-01-01 00:00:07+00:00  0.036644 -0.680721 -0.999328\n",
       "1970-01-01 00:00:08+00:00  0.041876 -0.676876 -0.999123\n",
       "1970-01-01 00:00:09+00:00  0.047106 -0.673013 -0.998890"
      ]
     },
     "metadata": {},
     "output_type": "display_data"
    },
    {
     "data": {
      "text/plain": [
       "<AxesSubplot:xlabel='Time'>"
      ]
     },
     "execution_count": 28,
     "metadata": {},
     "output_type": "execute_result"
    },
    {
     "data": {
      "image/png": "[encoded data removed]",
      "text/plain": [
       "<Figure size 432x288 with 1 Axes>"
      ]
     },
     "metadata": {
      "needs_background": "light"
     },
     "output_type": "display_data"
    }
   ],
   "source": [
    "# Get data for use below\n",
    "from hapiclient import hapi\n",
    "from hapiclient import hapitime2datetime\n",
    "\n",
    "server     = 'http://hapi-server.org/servers/TestData2.0/hapi'\n",
    "dataset    = 'dataset1'\n",
    "parameters = 'scalar,vector'\n",
    "start      = '1970-01-01T00:00:00'\n",
    "stop       = '1970-01-01T00:00:10'\n",
    "\n",
    "data,meta = hapi(server,dataset,parameters,start,stop)\n",
    "\n",
    "import pandas\n",
    "# Create dataframe\n",
    "df = pandas.DataFrame(data['vector'])\n",
    "\n",
    "# Add column to DataFrame\n",
    "df['Time'] = hapitime2datetime(data['Time'])\n",
    "\n",
    "# Set index\n",
    "df.set_index('Time', inplace=True)\n",
    "\n",
    "# Rename columns\n",
    "df.columns = ['x', 'y', 'z']\n",
    "\n",
    "display(df)\n",
    "\n",
    "%matplotlib inline\n",
    "df.plot()"
   ]
  },
  {
   "cell_type": "markdown",
   "metadata": {
    "id": "rDcKKplDW6Dv"
   },
   "source": [
    "# Metadata\n",
    "\n",
    "The metadata returned by `hapi()` is a straightforward mapping of the JSON metadata from a HAPI server.  Earlier we showed the metadata for a dataset; now we look at (a) creating a list of all HAPI servers and (b) asking any specific HAPI server which datasets it has available."
   ]
  },
  {
   "cell_type": "markdown",
   "metadata": {
    "id": "10nfG_NTW6Dv"
   },
   "source": [
    "## Listing all Servers"
   ]
  },
  {
   "cell_type": "markdown",
   "metadata": {
    "id": "SoKLadd9W6Dv"
   },
   "source": [
    "HAPI has a query function to return all current HAPI servers, which is identical to the \n",
    "[Equivalent URL](https://github.com/hapi-server/data-specification/blob/master/servers.txt)."
   ]
  },
  {
   "cell_type": "code",
   "execution_count": 1,
   "metadata": {
    "colab": {
     "base_uri": "https://localhost:8080/",
     "height": 247
    },
    "id": "QiltnxkzW6Dv",
    "outputId": "29bfe9c2-5301-4036-fa3b-a0cf92213596"
   },
   "outputs": [
    {
     "data": {
      "text/plain": [
       "['http://hapi-server.org/servers/SSCWeb/hapi',\n",
       " 'http://datashop.elasticbeanstalk.com/hapi',\n",
       " 'https://cdaweb.gsfc.nasa.gov/hapi',\n",
       " 'http://planet.physics.uiowa.edu/das/das2Server/hapi',\n",
       " 'https://iswa.gsfc.nasa.gov/IswaSystemWebApp/hapi',\n",
       " 'http://lasp.colorado.edu/lisird/hapi',\n",
       " 'http://hapi-server.org/servers/TestData2.0/hapi',\n",
       " 'http://amda.irap.omp.eu/service/hapi',\n",
       " 'https://vires.services/hapi']"
      ]
     },
     "metadata": {},
     "output_type": "display_data"
    }
   ],
   "source": [
    "from hapiclient import hapi\n",
    "\n",
    "servers = hapi() # servers is an array of URLs\n",
    "display(servers)"
   ]
  },
  {
   "cell_type": "markdown",
   "metadata": {
    "id": "YZjRItHAW6Dv"
   },
   "source": [
    "## Server datasets"
   ]
  },
  {
   "cell_type": "markdown",
   "metadata": {
    "id": "ST8QNdQZW6Dw"
   },
   "source": [
    "For a given server-- in this example, CDAWeb-- you can fetch the full list of dataset ids it serves. There is an [Equivalent URL: https://cdaweb.gsfc.nasa.gov/hapi/catalog](https://cdaweb.gsfc.nasa.gov/hapi/catalog) using the `catalog` endpoint (defined in the HAPI specification) that you can use as well.  Here, we only display the first five entries for example use, while a call to 'display(meta)' will display them all."
   ]
  },
  {
   "cell_type": "code",
   "execution_count": 6,
   "metadata": {
    "colab": {
     "base_uri": "https://localhost:8080/",
     "height": 1000
    },
    "id": "cMtZvVCXW6Dw",
    "outputId": "b9014484-aa37-472b-b068-88864dc704c6"
   },
   "outputs": [
    {
     "data": {
      "text/plain": [
       "[{'id': 'A1_K0_MPA'},\n",
       " {'id': 'A2_K0_MPA'},\n",
       " {'id': 'AC_AT_DEF'},\n",
       " {'id': 'AC_H0_MFI'},\n",
       " {'id': 'AC_H0_SWE'}]"
      ]
     },
     "metadata": {},
     "output_type": "display_data"
    }
   ],
   "source": [
    "from hapiclient import hapi\n",
    "\n",
    "server = 'https://cdaweb.gsfc.nasa.gov/hapi'\n",
    "meta = hapi(server)\n",
    "\n",
    "display(meta['catalog'][0:5])"
   ]
  },
  {
   "cell_type": "markdown",
   "metadata": {
    "id": "DO-pa0YUW6Dx"
   },
   "source": [
    "## Dataset  parameters"
   ]
  },
  {
   "cell_type": "markdown",
   "metadata": {
    "id": "1L0Xr5M7W6Dx"
   },
   "source": [
    "Each dataset's metadata is available as a query, without needing to fetch the actual data, using the `info` endpoint. For this example, there is an [Equivalent URL: https://cdaweb.gsfc.nasa.gov/hapi/info?id=AC_H0_MFI](https://cdaweb.gsfc.nasa.gov/hapi/info?id=AC_H0_MFI)"
   ]
  },
  {
   "cell_type": "code",
   "execution_count": 31,
   "metadata": {
    "colab": {
     "base_uri": "https://localhost:8080/",
     "height": 859
    },
    "id": "Eq3YQREeW6Dx",
    "outputId": "fc6b23ee-d10d-44ad-dbf3-f3deeef7680a"
   },
   "outputs": [
    {
     "data": {
      "text/plain": [
       "{'HAPI': '2.0',\n",
       " 'status': {'code': 1200, 'message': 'OK'},\n",
       " 'parameters': [{'name': 'Time',\n",
       "   'type': 'isotime',\n",
       "   'units': 'UTC',\n",
       "   'length': 24,\n",
       "   'fill': None},\n",
       "  {'name': 'Magnitude',\n",
       "   'type': 'double',\n",
       "   'units': 'nT',\n",
       "   'fill': '-1.0E31',\n",
       "   'description': 'B-field magnitude'},\n",
       "  {'name': 'BGSEc',\n",
       "   'type': 'double',\n",
       "   'units': 'nT',\n",
       "   'fill': '-1.0E31',\n",
       "   'description': 'Magnetic Field Vector in GSE Cartesian coordinates (16 sec)',\n",
       "   'size': [3]},\n",
       "  {'name': 'BGSM',\n",
       "   'type': 'double',\n",
       "   'units': 'nT',\n",
       "   'fill': '-1.0E31',\n",
       "   'description': 'Magnetic field vector in GSM coordinates (16 sec)',\n",
       "   'size': [3]},\n",
       "  {'name': 'dBrms',\n",
       "   'type': 'double',\n",
       "   'units': 'nT',\n",
       "   'fill': '-1.0E31',\n",
       "   'description': 'RMS of Magnetic Field (16 sec period)'},\n",
       "  {'name': 'SC_pos_GSE',\n",
       "   'type': 'double',\n",
       "   'units': 'km',\n",
       "   'fill': '-1.0E31',\n",
       "   'description': 'ACE s/c position, 3 comp. in GSE coord.',\n",
       "   'size': [3]},\n",
       "  {'name': 'SC_pos_GSM',\n",
       "   'type': 'double',\n",
       "   'units': 'km',\n",
       "   'fill': '-1.0E31',\n",
       "   'description': 'ACE s/c position, 3 comp. in GSM coord.',\n",
       "   'size': [3]}],\n",
       " 'startDate': '1997-09-02T00:00:12Z',\n",
       " 'stopDate': '2022-01-03T23:59:58Z',\n",
       " 'resourceURL': 'https://cdaweb.gsfc.nasa.gov/misc/NotesA.html#AC_H0_MFI',\n",
       " 'contact': 'N. Ness @ Bartol Research Institute'}"
      ]
     },
     "metadata": {},
     "output_type": "display_data"
    }
   ],
   "source": [
    "from hapiclient import hapi\n",
    "\n",
    "server  = 'https://cdaweb.gsfc.nasa.gov/hapi'\n",
    "dataset = 'AC_H0_MFI'\n",
    "meta = hapi(server,dataset)\n",
    "display(meta)"
   ]
  },
  {
   "cell_type": "markdown",
   "metadata": {
    "id": "Pw8QvvV-W6Dx"
   },
   "source": [
    "## Parameters\n",
    "\n",
    "You can likewise examine a subset of the full dataset (rather than all variables returnable) by adding the same 'parameters' call you would use in a query.\n",
    "[Equivalent URL: https://cdaweb.gsfc.nasa.gov/hapi/info?id=AC_H0_MFI&parameters=Magnitude,BGSEc](https://cdaweb.gsfc.nasa.gov/hapi/info?id=AC_H0_MFI&parameters=Magnitude,BGSEc)\n",
    "\n",
    "(Note that HAPI allows 'unlisted' non-standard internal keys that prefixed by `x_`.  Similar to the Python `_name` scheme, this is an advanced feature not covered in this tutorial.)\n",
    "\n",
    "Here we fetch just the `Magnitude` and `BGSEc` for the `AC_H0_MFI` dataset from `CDAWeb`."
   ]
  },
  {
   "cell_type": "code",
   "execution_count": 32,
   "metadata": {
    "colab": {
     "base_uri": "https://localhost:8080/",
     "height": 492
    },
    "id": "y29Obyd7W6Dx",
    "outputId": "01cf4769-8a2c-43f4-d298-e9d34fd4ade2"
   },
   "outputs": [
    {
     "data": {
      "text/plain": [
       "{'HAPI': '2.0',\n",
       " 'status': {'code': 1200, 'message': 'OK'},\n",
       " 'parameters': [{'name': 'Time',\n",
       "   'type': 'isotime',\n",
       "   'units': 'UTC',\n",
       "   'length': 24,\n",
       "   'fill': None},\n",
       "  {'name': 'Magnitude',\n",
       "   'type': 'double',\n",
       "   'units': 'nT',\n",
       "   'fill': '-1.0E31',\n",
       "   'description': 'B-field magnitude'},\n",
       "  {'name': 'BGSEc',\n",
       "   'type': 'double',\n",
       "   'units': 'nT',\n",
       "   'fill': '-1.0E31',\n",
       "   'description': 'Magnetic Field Vector in GSE Cartesian coordinates (16 sec)',\n",
       "   'size': [3]}],\n",
       " 'startDate': '1997-09-02T00:00:12Z',\n",
       " 'stopDate': '2022-01-03T23:59:58Z',\n",
       " 'resourceURL': 'https://cdaweb.gsfc.nasa.gov/misc/NotesA.html#AC_H0_MFI',\n",
       " 'contact': 'N. Ness @ Bartol Research Institute',\n",
       " 'x_server': 'https://cdaweb.gsfc.nasa.gov/hapi',\n",
       " 'x_dataset': 'AC_H0_MFI'}"
      ]
     },
     "metadata": {},
     "output_type": "display_data"
    }
   ],
   "source": [
    "from hapiclient import hapi\n",
    "\n",
    "server     = 'https://cdaweb.gsfc.nasa.gov/hapi'\n",
    "dataset    = 'AC_H0_MFI'\n",
    "parameters = 'Magnitude,BGSEc'\n",
    "\n",
    "meta = hapi(server,dataset,parameters)\n",
    "\n",
    "display(meta)"
   ]
  },
  {
   "cell_type": "markdown",
   "metadata": {},
   "source": [
    "----\n",
    "Next up, [data fusion](HAPI_04.ipynb)\n",
    "----"
   ]
  },
  {
   "cell_type": "code",
   "execution_count": null,
   "metadata": {},
   "outputs": [],
   "source": []
  },
  {
   "cell_type": "code",
   "execution_count": null,
   "metadata": {},
   "outputs": [],
   "source": []
  },
  {
   "cell_type": "code",
   "execution_count": null,
   "metadata": {},
   "outputs": [],
   "source": []
  }
 ],
 "metadata": {
  "colab": {
   "name": "hapi_demo.ipynb",
   "provenance": [],
   "toc_visible": true
  },
  "git": {
   "suppress_output": true
  },
  "kernelspec": {
   "display_name": "Python 3 (ipykernel)",
   "language": "python",
   "name": "python3"
  },
  "language_info": {
   "codemirror_mode": {
    "name": "ipython",
    "version": 3
   },
   "file_extension": ".py",
   "mimetype": "text/x-python",
   "name": "python",
   "nbconvert_exporter": "python",
   "pygments_lexer": "ipython3",
   "version": "3.9.10"
  }
 },
 "nbformat": 4,
 "nbformat_minor": 4
}
