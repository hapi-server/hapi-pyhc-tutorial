{
 "cells": [
  {
   "cell_type": "markdown",
   "metadata": {
    "id": "nPrfD4g5W6Dh"
   },
   "source": [
    "The [Heliophysics Application Programmer’s Interface (HAPI)](http://hapi-server.org/) data access specification is a RESTful API and streaming format specification for delivering digital time series data.\n",
    "\n",
    "HAPI serves time series data in a mission-independent format as a single continous dataset (regardless of mission file formats or file boundaries) from any mission that has implemented a HAPI server.\n",
    "\n",
    "The first part of this walkthrough has 5 parts:\n",
    "* [HAPI_01.ipynb - First look at HAPI](HAPI_01.ipynb)\n",
    "* [HAPI_02.ipynb - Data structures](HAPI_02.ipynb)\n",
    "* [HAPI_03.ipynb - Plotting, Pandas, and metadata](HAPI_03.ipynb)\n",
    "* [HAPI_04.ipynb - Data fusion using HAPI](HAPI_04.ipynb)\n",
    "* [HAPI_05.ipynb - The HAPI ecosystem](HAPI_05.ipynb) (this Notebook)\n",
    "\n",
    "For more information on HAPI-related software, see http://hapi-server.org/."
   ]
  },
  {
   "cell_type": "markdown",
   "metadata": {},
   "source": [
    "# The HAPI ecosystem\n",
    "![Heliophysics Fleet](HelioFleet.jpeg \"Heliophysics Fleet\")\n",
    "\n",
    "Two ways to discover datasets available through HAPI are:\n",
    "* [hapi-server.org/servers](http://hapi-server.org/servers), complete but not searchable. \n",
    "* The [Heliophysics Data Portal](https://heliophysicsdata.gsfc.nasa.gov/), incomplete but searchable.\n",
    "\n",
    "The HAPI server site lists and serves datasets by HAPI endpoint names-- typically multiple per mission, and alphabetic.  It is best when you know which mission you are interested in.  The catalogs currently supported (as of April 2022) are CDAWeb, SSCWeb, AMDA, VirES-for-Swarm, LISIRD, CCMC-ISWA, DAS2 & Datashop.  It is useful for access, less so for searchability.\n",
    "\n",
    "HDP, in turn, only links to the CDAWeb HAPI assets, but has searchability.  For example, a search for 'dst' data and 'hapi' (as keywords) for the time range of Nov-Dec 2021 yields 33 entrie: 8 for Cluster, 24 for MMS, and 1 for OMNI.\n",
    "\n",
    "Fortunately, HAPI is funded in 2022 to help advance, improve and promulgate HAPI services, improving both access and searchability."
   ]
  },
  {
   "cell_type": "code",
   "execution_count": null,
   "metadata": {},
   "outputs": [],
   "source": []
  }
 ],
 "metadata": {
  "colab": {
   "name": "hapi_demo.ipynb",
   "provenance": [],
   "toc_visible": true
  },
  "git": {
   "suppress_output": true
  },
  "kernelspec": {
   "display_name": "Python 3 (ipykernel)",
   "language": "python",
   "name": "python3"
  },
  "language_info": {
   "codemirror_mode": {
    "name": "ipython",
    "version": 3
   },
   "file_extension": ".py",
   "mimetype": "text/x-python",
   "name": "python",
   "nbconvert_exporter": "python",
   "pygments_lexer": "ipython3",
   "version": "3.9.10"
  }
 },
 "nbformat": 4,
 "nbformat_minor": 4
}
