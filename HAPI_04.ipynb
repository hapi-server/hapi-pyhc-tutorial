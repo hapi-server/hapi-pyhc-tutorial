{
 "cells": [
  {
   "cell_type": "markdown",
   "metadata": {
    "id": "nPrfD4g5W6Dh"
   },
   "source": [
    "# Class Notebooks\n",
    "\n",
    "* [HAPI_00.ipynb](HAPI_00.ipynb) - Introduction\n",
    "* [HAPI_01.ipynb](HAPI_01.ipynb) - Basics\n",
    "* [HAPI_02.ipynb](HAPI_02.ipynb) - Data structures\n",
    "* [HAPI_03.ipynb](HAPI_03.ipynb) - Plotting\n",
    "* **[HAPI_04.ipynb](HAPI_04.ipynb) - Problems (this Notebook)**"
   ]
  },
  {
   "cell_type": "markdown",
   "metadata": {},
   "source": [
    "# Instructions\n",
    "\n",
    "Use the rest of the class time to work on these problems. Each problem is expected to take approximately one hour, so start with a problem that interests you.\n",
    "\n",
    "For in-person students, we encourage you to work with one or more neighbors on a problem.\n",
    "\n",
    "Several HAPI experts are available for questions on chat, and three of us will be on-site for in-person questions."
   ]
  },
  {
   "cell_type": "markdown",
   "metadata": {},
   "source": [
    "# Working with Metadata I."
   ]
  },
  {
   "cell_type": "markdown",
   "metadata": {},
   "source": [
    "\n",
    "## Basic\n",
    "\n",
    "\n",
    "Starting with\n",
    "\n",
    "```python\n",
    "with open('data/availability.pkl', 'rb') as f:\n",
    "    datasets = pickle.load(f)\n",
    "    logging.info('Read availability.pkl')\n",
    "print(datasets)\n",
    "```\n",
    "\n",
    "use the information in `datasets` to\n",
    "\n",
    "1. Create a table showing the time interval of availability of ephemeris data from the SSCWeb HAPI server. The table should have the form\n",
    "\n",
    "    ```\n",
    "    ace              1997-08-25T17:48:00.000Z  2022-07-04T23:48:00.000Z\n",
    "    active           1989-09-29T00:00:00.000Z  1991-10-04T08:00:00.000Z\n",
    "    aec              1973-12-17T08:01:00.000Z  1978-12-10T00:00:00.000Z\n",
    "    ... (243 more lines)\n",
    "    ```\n",
    "\n",
    "1. Create a plot showing the time interval of availability of ephemeris data from the SSCWeb HAPI server. The plot should have the form\n",
    "\n",
    "    ![](imgs/avail.png)\n",
    "\n",
    "\n",
    "### Solution\n",
    "\n",
    "1\\. Table\n",
    "\n",
    "```python\n",
    "with open('data/availability.pkl', 'rb') as f:\n",
    "    datasets = pickle.load(f)\n",
    "    logging.info('Read availability.pkl')\n",
    "\n",
    "for idx, dataset in enumerate(datasets):\n",
    "    # Pad ids\n",
    "    id = \"{:15s}\".format(datasets[idx][\"id\"])\n",
    "    print(f'{id}  {datasets[idx][\"startDate\"]}  {datasets[idx][\"stopDate\"]}')\n",
    "```\n",
    "\n",
    "2\\. Plot\n",
    "\n",
    "See `misc/availability.py` (will be removed prior to Summer School)\n",
    "\n",
    "## Advanced\n",
    "\n",
    "Write a program that creates the information in `datasets` by querying the SSCWeb HAPI server.\n",
    "\n",
    "\n",
    "### Solution\n",
    "\n",
    "See `availability()` in `misc/util.py` (will be removed prior to Summer School)"
   ]
  },
  {
   "cell_type": "markdown",
   "metadata": {},
   "source": [
    "# Working with Metadata II.\n",
    "\n",
    "Starting with\n",
    "\n",
    "```python\n",
    "with open('data/availability.pkl', 'rb') as f:\n",
    "    datasets = pickle.load(f)\n",
    "    logging.info('Read availability.pkl')\n",
    "print(datasets)\n",
    "\n",
    "start = \"2003-10-31T23:00:00Z\"\n",
    "stop = \"2003-10-31T23:59:00Z\"\n",
    "```\n",
    "\n",
    "create a table that indicates the spacecraft region on `2003-10-31T23:00:00Z` for all spacecraft available from SSCWeb. Your table should have columns of `Spacecraft`, `Region`, and `Radial distance from Earth`.\n",
    "\n",
    "## Solution\n",
    "\n",
    "See `misc/region.py` (will be removed prior to Summer School)"
   ]
  },
  {
   "cell_type": "markdown",
   "metadata": {},
   "source": [
    "# Working with Data\n",
    "\n",
    "Many datasets from CDAWeb contain ephemeris (position) data for the associated satellite.\n",
    "\n",
    "Use https://hapi-server.org/servers/ or https://heliophysicsdata.gsfc.nasa.gov/\n",
    "\n",
    "1. to find a CDAWeb dataset that contains the ephemeris of a satellite, and\n",
    "2. to find a SSCWeb dataset that contians the ephemeris of the same satellite.\n",
    "\n",
    "Create a plot that compares the results."
   ]
  },
  {
   "cell_type": "markdown",
   "metadata": {},
   "source": [
    "# Interpolating Time\n",
    "\n",
    "# Coordinate Transform\n",
    "\n",
    "# Plotting\n",
    "\n",
    "Use any plotting software to create a stack plot similar to the following."
   ]
  },
  {
   "cell_type": "markdown",
   "metadata": {},
   "source": [
    "# Data Fusion\n",
    "\n",
    "Use SunPy to obtain solar images for the event of DATE. On this date, the X spacecraft was 200 R_E upstream of Earth (and so in the interstellar medium). Obtain solar wind velocity measurements from X from DATE to DATE+4 days. \n",
    "\n",
    "Can you seee the signature of the solar event in the X spacecraft solar wind velocity measurements?"
   ]
  }
 ],
 "metadata": {
  "colab": {
   "name": "hapi_demo.ipynb",
   "provenance": [],
   "toc_visible": true
  },
  "git": {
   "suppress_output": true
  },
  "kernelspec": {
   "display_name": "Python 3 (ipykernel)",
   "language": "python",
   "name": "python3"
  },
  "language_info": {
   "codemirror_mode": {
    "name": "ipython",
    "version": 3
   },
   "file_extension": ".py",
   "mimetype": "text/x-python",
   "name": "python",
   "nbconvert_exporter": "python",
   "pygments_lexer": "ipython3",
   "version": "3.7.6"
  }
 },
 "nbformat": 4,
 "nbformat_minor": 4
}
