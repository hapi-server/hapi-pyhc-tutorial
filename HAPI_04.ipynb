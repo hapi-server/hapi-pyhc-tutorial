{
 "cells": [
  {
   "cell_type": "markdown",
   "metadata": {
    "id": "nPrfD4g5W6Dh"
   },
   "source": [
    "# Class Notebooks\n",
    "\n",
    "* [HAPI_00.ipynb](HAPI_00.ipynb) - Introduction\n",
    "* [HAPI_01.ipynb](HAPI_01.ipynb) - Basics\n",
    "* [HAPI_02.ipynb](HAPI_02.ipynb) - Data structures\n",
    "* [HAPI_03.ipynb](HAPI_03.ipynb) - Plotting\n",
    "* **[HAPI_04.ipynb](HAPI_04.ipynb) - Problems (this Notebook)**"
   ]
  },
  {
   "cell_type": "markdown",
   "metadata": {},
   "source": [
    "# Instructions\n",
    "\n",
    "Use the rest of the class time to work on these problems. Each problem is expected to take approximately one hour, so start with a problem that interests you.\n",
    "\n",
    "You are welcome to work on problems not given here. However, priority for questions will be given to students working on these problems.\n",
    "\n",
    "For in-person students, we encourage you to work with one or more neighbors on a problem.\n",
    "\n",
    "Several HAPI experts are available for questions on chat, and three of us will be on-site for in-person questions."
   ]
  },
  {
   "cell_type": "markdown",
   "metadata": {},
   "source": [
    "# Working with Metadata I."
   ]
  },
  {
   "cell_type": "markdown",
   "metadata": {},
   "source": [
    "\n",
    "## Basic\n",
    "\n",
    "\n",
    "Starting with\n",
    "\n",
    "```python\n",
    "with open('data/availability.pkl', 'rb') as f:\n",
    "    datasets = pickle.load(f)\n",
    "    logging.info('Read availability.pkl')\n",
    "print(datasets)\n",
    "```\n",
    "\n",
    "use the information in `datasets` to\n",
    "\n",
    "### Table\n",
    "\n",
    "Create a table showing the time interval of availability of ephemeris data from the SSCWeb HAPI server. The table should have the form\n",
    "\n",
    "    ```\n",
    "    ace              1997-08-25T17:48:00.000Z  2022-07-04T23:48:00.000Z\n",
    "    active           1989-09-29T00:00:00.000Z  1991-10-04T08:00:00.000Z\n",
    "    aec              1973-12-17T08:01:00.000Z  1978-12-10T00:00:00.000Z\n",
    "    ... (243 more lines)\n",
    "    ```\n",
    "\n",
    "### Plot\n",
    "\n",
    "Create a plot showing the time interval of availability of ephemeris data from the SSCWeb HAPI server. The plot should look similar to the following."
   ]
  },
  {
   "cell_type": "markdown",
   "metadata": {},
   "source": [
    "![](imgs/availability-1.svg)"
   ]
  },
  {
   "cell_type": "markdown",
   "metadata": {},
   "source": [
    "\n",
    "### Solution\n",
    "\n",
    "Solutions will be posted here at the end of the class period.\n",
    "\n",
    "## Advanced\n",
    "\n",
    "Write a program that creates the information in the dictionary `datasets` by querying the SSCWeb HAPI server. That is, write a program that creates the content that is stored in `availability.pkl`.\n",
    "\n",
    "### Solution\n",
    "\n",
    "Solutions will be posted here at the end of the class period."
   ]
  },
  {
   "cell_type": "markdown",
   "metadata": {},
   "source": [
    "# Working with Metadata II.\n",
    "\n",
    "Starting with\n",
    "\n",
    "```python\n",
    "with open('data/availability.pkl', 'rb') as f:\n",
    "    datasets = pickle.load(f)\n",
    "    logging.info('Read availability.pkl')\n",
    "print(datasets)\n",
    "\n",
    "start = \"2003-10-31T23:00:00Z\"\n",
    "stop = \"2003-10-31T23:59:00Z\"\n",
    "```\n",
    "\n",
    "create a table that indicates the spacecraft region on `2003-10-31T23:00:00Z` for `ace`, `akebono`, `apex`, and `aqua` from SSCWeb. Your table should have columns of `Spacecraft`, `Region`, and `Radial distance from Earth` as shown below.\n",
    "\n",
    "(Please do not attempt to create a table for all spacecraft -- the SSCWeb HAPI server was not designed to handle a class of 300+ and so possibly 10-50 simultaneous requests.)\n",
    "\n",
    "```\n",
    "--------------------------------------------------------------------------------\n",
    "S/C ID           Region        Time\n",
    "\n",
    "ace              Intpl_Med\t 2003-304T23:00:00Z\n",
    "akebono          D_Psphere\t 2003-304T23:00:00Z\n",
    "apex             D_Msphere\t 2003-304T23:00:00Z\n",
    "aqua             N_Psphere\t 2003-304T23:00:00Z\n",
    "--------------------------------------------------------------------------------\n",
    "```\n",
    "\n",
    "## Solution\n",
    "\n",
    "Solutions will be posted at the end of the class period."
   ]
  },
  {
   "cell_type": "markdown",
   "metadata": {},
   "source": [
    "# Working with Data\n",
    "\n",
    "Many datasets from CDAWeb contain ephemeris (position) data in for the associated satellite.\n",
    "\n",
    "Use https://hapi-server.org/servers/ or https://heliophysicsdata.gsfc.nasa.gov/ to\n",
    "\n",
    "1. find a CDAWeb dataset that contains the ephemeris of a satellite, and\n",
    "2. find a SSCWeb dataset that contians the ephemeris of the same satellite.\n",
    "\n",
    "Then\n",
    "\n",
    "3. write a program to download the data, and  \n",
    "4. create a plot that compares the data.\n",
    "\n",
    "## Solution\n",
    "\n",
    "A sample solution will be posted at the end of the class period."
   ]
  },
  {
   "cell_type": "markdown",
   "metadata": {},
   "source": [
    "# Interpolating Time\n",
    "\n",
    "For analysis, it is often useful to place two datasets that have different timestamps on the same time grid. \n",
    "\n",
    "There are many ways to do this, for example,\n",
    "\n",
    "* Convert the timestamps in the `NumPy` array returned by `hapi` into integers, create a 1-D array of time integers to interpolate on to, and then either write your own interpolation function (not recommended) or use an interpolation function in [`Numpy`](https://numpy.org/doc/stable/reference/generated/numpy.interp.html) or [`SciPy`](https://docs.scipy.org/doc/scipy/reference/interpolate.html). An example of converting `hapi` timestamps to `datetime` objects was given in [HAPI_02.ipynb#Time-Representation](HAPI_02.ipynb#Time-Representation); one can use [`datetime` methods](https://docs.python.org/3/library/datetime.html) to convert `datetime` objects into integers.\n",
    "\n",
    "\n",
    "* Place data in a Pandas data frame and use data frame interpolation methods (an example of placing data in a Pandas data frame was given in [HAPI_02.ipynb#Convert-to-Pandas-DataFrame](HAPI_02.ipynb#Convert-to-Pandas-DataFrame)).\n",
    "\n",
    "\n",
    "* In the [SpacePy](https://github.com/heliophysicsPy/summer-school/blob/main/spacepy-tutorial/SpacePy%20-%20MMS%20Ephemeris.md) tutorial (search on `tb.inter`) later in the week, you will use the [`interpol`](https://spacepy.github.io/autosummary/spacepy.toolbox.interpol.html#spacepy.toolbox.interpol) function in [`spacepy.toolbox`](https://spacepy.github.io/toolbox.html) to do this.\n",
    "\n",
    "The following program reads data from two different data servers. \n",
    "\n",
    "1. Write a program that places the data on a uniform 1-minute time grid that spans the time range of availability of both datasets.\n",
    "\n",
    "2. Create a table or plot that allows one to visually compare the interpolated values with the given values.\n",
    "\n",
    "\n",
    "# Coordinate Transform\n",
    "\n",
    "The following program uses SpacePy to perform a coordinate transform.\n",
    "\n",
    "1. Obtain data from the SSCWeb HAPI server for the `ACE` spacecraft from `2003-10-31T23:00:00Z` to `2003-10-31T23:59:00Z`.\n",
    "2. Print out the `GSM` and `GSE` values.\n",
    "3. Use SpacePy to convert the `GSM` values to `GSE`.\n"
   ]
  },
  {
   "cell_type": "markdown",
   "metadata": {},
   "source": [
    "# SunPy Data Fusion\n",
    "\n",
    "In the last part of the [SunPy Tutorial](https://github.com/heliophysicsPy/summer-school/blob/main/sunpy-tutorial/05-multi-observer-application.ipynb), you plotted solar images on 2021-04-24. \n",
    "\n",
    "Solar wind plasma typically ~4 days to propagate from the solar surface to Earth. \n",
    "\n",
    "Find and plot data from at least one spacecraft from `2021-04-24` to `2021-04-30`. Be prepared to answer questions about your interpretation of any features in the time series."
   ]
  }
 ],
 "metadata": {
  "colab": {
   "name": "hapi_demo.ipynb",
   "provenance": [],
   "toc_visible": true
  },
  "git": {
   "suppress_output": true
  },
  "kernelspec": {
   "display_name": "Python 3 (ipykernel)",
   "language": "python",
   "name": "python3"
  },
  "language_info": {
   "codemirror_mode": {
    "name": "ipython",
    "version": 3
   },
   "file_extension": ".py",
   "mimetype": "text/x-python",
   "name": "python",
   "nbconvert_exporter": "python",
   "pygments_lexer": "ipython3",
   "version": "3.7.6"
  }
 },
 "nbformat": 4,
 "nbformat_minor": 4
}
