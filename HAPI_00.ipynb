{
 "cells": [
  {
   "cell_type": "markdown",
   "metadata": {},
   "source": [
    "# Introduction\n",
    "\n",
    "This class will cover the use of the [`hapiclient`](https://github.com/hapi-server/client-python) Python package, which allows you obtain data from over 8 different data servers with a few lines of code.\n",
    "\n",
    "We will also show how data obtained with `hapiclient` can be used in other Heliophysics Python packages.\n",
    "\n",
    "\n",
    "# Overview of the HAPI Standard\n",
    "\n",
    "The [Heliophysics Application Programmer’s Interface (HAPI)](http://hapi-server.org/) data access specification is a REST-based API and data streaming format specification for time series data [[Weigel et al., 2021](https://hapi-server.org/docs/Weigel_2021_HAPI-An_API_Standard_for_Accessing_Heliophysics_Time_Series_Data.pdf)].\n",
    "\n",
    "A HAPI server serves time series data as a single continous data stream from any mission or data provider that has implemented a HAPI server.\n",
    "\n",
    "HAPI servers\n",
    "\n",
    "* CDPP/AMDA\n",
    "* CCMC/iSWA\n",
    "* SPDF/CDAWeb\n",
    "* UIowa/Das2\n",
    "* JHU/APL/DataShop\n",
    "* FTECS/RBSPICE\n",
    "* LASP/LISIRD\n",
    "* SPDF/SSCWeb\n",
    "* VirES/SWARM\n",
    "\n",
    "All HAPI server holdings are accessible and brosable at http://hapi-server.org/servers/, which also contains links to the actual HAPI servers.\n",
    "\n",
    "To get data from a HAPI server, you one creates a URL of the form\n",
    "\n",
    "```\n",
    "    http://server/hapi/data?dataset=DATASET&parameters=PARAMETERS&start=START&stop=STOP\n",
    "```\n",
    "\n",
    "with the capitalized words replaced with relevant values. When this URL is entered, data is returned (in CSV by default, but binary is an option).\n",
    "\n",
    "[`hapiclient`](https://github.com/hapi-server/client-python) passes this URL to a HAPI server and returns a NumPy data structure with the data. The user does not need to write code to read CSV (or binary) and the associated metadata."
   ]
  },
  {
   "cell_type": "markdown",
   "metadata": {},
   "source": [
    "# Motivation for the HAPI Standard\n",
    "\n",
    "The Heliophysics Application Programmer's Interface (HAPI) specification allows data providers to use a standard set of conventions for returning data in response to a URL-based request.\n",
    "\n",
    "This specification was developed because no standard exists. Data providers use incompatible conventions so that automated access to and aggregation of data requires users to write custom code to read data for each data provider.\n",
    "\n",
    "As an example, prior to HAPI, to write a Python program that downloads data using the web API from SSCWeb, CDAWeb, LISIRD, and AMDA would require writing four scripts that implements each of their APIs and handles different CSV and metadata file structures.\n",
    "\n",
    "\n",
    "# Overview of HAPI Python Software"
   ]
  },
  {
   "cell_type": "markdown",
   "metadata": {},
   "source": [
    "The HAPI project has two parts\n",
    "\n",
    "1. Developement of [the API standard](https://github.com/hapi-server/data-specification) (the URL syntax and the structure of the returned data and metadata)\n",
    "2. Development of [software that implements the standard](http://github.com/hapi-server/) (server-side software for data providers and client-side software for scientists)\n",
    "\n",
    "In this lab, you will learn to use the Python HAPI client, [`hapiclient`](https://github.com/hapi-server/client-python), and the plotting tool [`hapiplot`](https://github.com/hapi-server/plot-python).\n",
    "\n",
    "`hapiclient` is required for all activities.\n",
    "\n",
    "`hapiplot` is a software package that was developed for testing and quick-look plots of data returned by `hapiclient`. \n",
    "\n",
    "In this lab, you will also use the standard Python plotting package `Matplotlib` and plotting functions available in Heliophysics libraries such as `SunPy`, `PyTplot`, and `SpacePy`."
   ]
  },
  {
   "cell_type": "markdown",
   "metadata": {},
   "source": [
    "# A Note About Finding Data\n",
    "\n",
    "As will be demonstrated, if you know what dataset and parameter you want, a few lines of Python (or IDL, MATLAB, etc.) is all that is needed to get data into your program in a form that is ready for analysis and plotting.\n",
    "\n",
    "The HAPI project and HAPI standard addresses the \"**access**\" problem. That is, it makes accessing and reading data using software easy.\n",
    "\n",
    "However, the HAPI project does not address the \"**discovery**\" problem. That is, it does not address making discovering what data are available given a search term easy. \n",
    "\n",
    "The page [https://hapi-server.org/servers](http://hapi-server.org/servers) contains a complete list of all HAPI servers and their datasets and parameters. It does not contain a global search (or discovery) interface, however. This interface may be useful if you have a general idea of what you are looking for (e.g., Solar Irradiance data from LASP/LISIRD).\n",
    "\n",
    "The [Heliophysics Data Portal (HDP)](https://heliophysicsdata.gsfc.nasa.gov/) can be used for more general searches and discovery. For example, a search for 'dst' data and 'hapi' (as keywords entered in the \"Text Restriction\" box) for the time range of Nov-Dec 2021 yields 33 entries: 8 for Cluster, 24 for MMS, and 1 for OMNI.\n",
    "\n",
    "Currently, not all data available from HAPI servers is available for search at the [Heliophysics Data Portal (HDP)](https://heliophysicsdata.gsfc.nasa.gov/). There is an on-going effort to make all HAPI data searchable and discoverable from this interface."
   ]
  },
  {
   "cell_type": "markdown",
   "metadata": {},
   "source": [
    "# Outline of Class\n",
    "\n",
    "We will have several [`hapiclient`](https://github.com/hapi-server/client-python) experts available on the Slack forum. Feel free to ask questions at any time.\n",
    "\n",
    "Also feel free to ask me questions while I am presenting.\n",
    "\n",
    "* [HAPI_01.ipynb - Basics](HAPI_01.ipynb): 10-minute overview then students work on two problems for 20 minutes\n",
    "* Go over solution to problems and common questions\n",
    "* [HAPI_02.ipynb - Data structures](HAPI_02.ipynb): 10-minute overview then students work on two problems for 20 minutes\n",
    "* Go over solution to problems and common questions\n",
    "* Break\n",
    "* [HAPI_03.ipynb - Plotting](HAPI_03.ipynb): 10-minute overview then work on two problems for 20 minutes\n",
    "* Go over solution to problems and common questions\n",
    "* [HAPI_04.ipynb - Problems](HAPI_04.ipynb): Problems to work on after break\n",
    "* Comments on problems\n",
    "* Closing remarks"
   ]
  },
  {
   "cell_type": "markdown",
   "metadata": {},
   "source": []
  }
 ],
 "metadata": {
  "kernelspec": {
   "display_name": "Python 3 (ipykernel)",
   "language": "python",
   "name": "python3"
  },
  "language_info": {
   "codemirror_mode": {
    "name": "ipython",
    "version": 3
   },
   "file_extension": ".py",
   "mimetype": "text/x-python",
   "name": "python",
   "nbconvert_exporter": "python",
   "pygments_lexer": "ipython3",
   "version": "3.8.10"
  }
 },
 "nbformat": 4,
 "nbformat_minor": 4
}
